{
 "cells": [
  {
   "cell_type": "code",
   "execution_count": 4,
   "metadata": {},
   "outputs": [
    {
     "data": {
      "text/html": [
       "<div>\n",
       "<style scoped>\n",
       "    .dataframe tbody tr th:only-of-type {\n",
       "        vertical-align: middle;\n",
       "    }\n",
       "\n",
       "    .dataframe tbody tr th {\n",
       "        vertical-align: top;\n",
       "    }\n",
       "\n",
       "    .dataframe thead th {\n",
       "        text-align: right;\n",
       "    }\n",
       "</style>\n",
       "<table border=\"1\" class=\"dataframe\">\n",
       "  <thead>\n",
       "    <tr style=\"text-align: right;\">\n",
       "      <th></th>\n",
       "      <th>Unnamed: 0</th>\n",
       "      <th>Date</th>\n",
       "      <th>Average Price</th>\n",
       "      <th>Total Volume</th>\n",
       "      <th>Hass Small</th>\n",
       "      <th>Hass Large</th>\n",
       "      <th>Hass XLarge</th>\n",
       "      <th>Total Bags</th>\n",
       "      <th>Small Bags</th>\n",
       "      <th>Large Bags</th>\n",
       "      <th>XLarge Bags</th>\n",
       "      <th>Type</th>\n",
       "      <th>Year</th>\n",
       "      <th>Region</th>\n",
       "      <th>Total Sales</th>\n",
       "    </tr>\n",
       "  </thead>\n",
       "  <tbody>\n",
       "    <tr>\n",
       "      <td>0</td>\n",
       "      <td>0</td>\n",
       "      <td>2015-12-27</td>\n",
       "      <td>1.33</td>\n",
       "      <td>64236.62</td>\n",
       "      <td>1036.74</td>\n",
       "      <td>54454.85</td>\n",
       "      <td>48.16</td>\n",
       "      <td>8696.87</td>\n",
       "      <td>8603.62</td>\n",
       "      <td>93.25</td>\n",
       "      <td>0.0</td>\n",
       "      <td>conventional</td>\n",
       "      <td>2015</td>\n",
       "      <td>Albany</td>\n",
       "      <td>85434.70</td>\n",
       "    </tr>\n",
       "    <tr>\n",
       "      <td>1</td>\n",
       "      <td>1</td>\n",
       "      <td>2015-12-20</td>\n",
       "      <td>1.35</td>\n",
       "      <td>54876.98</td>\n",
       "      <td>674.28</td>\n",
       "      <td>44638.81</td>\n",
       "      <td>58.33</td>\n",
       "      <td>9505.56</td>\n",
       "      <td>9408.07</td>\n",
       "      <td>97.49</td>\n",
       "      <td>0.0</td>\n",
       "      <td>conventional</td>\n",
       "      <td>2015</td>\n",
       "      <td>Albany</td>\n",
       "      <td>74083.92</td>\n",
       "    </tr>\n",
       "    <tr>\n",
       "      <td>2</td>\n",
       "      <td>2</td>\n",
       "      <td>2015-12-13</td>\n",
       "      <td>0.93</td>\n",
       "      <td>118220.22</td>\n",
       "      <td>794.70</td>\n",
       "      <td>109149.67</td>\n",
       "      <td>130.50</td>\n",
       "      <td>8145.35</td>\n",
       "      <td>8042.21</td>\n",
       "      <td>103.14</td>\n",
       "      <td>0.0</td>\n",
       "      <td>conventional</td>\n",
       "      <td>2015</td>\n",
       "      <td>Albany</td>\n",
       "      <td>109944.80</td>\n",
       "    </tr>\n",
       "    <tr>\n",
       "      <td>3</td>\n",
       "      <td>3</td>\n",
       "      <td>2015-12-06</td>\n",
       "      <td>1.08</td>\n",
       "      <td>78992.15</td>\n",
       "      <td>1132.00</td>\n",
       "      <td>71976.41</td>\n",
       "      <td>72.58</td>\n",
       "      <td>5811.16</td>\n",
       "      <td>5677.40</td>\n",
       "      <td>133.76</td>\n",
       "      <td>0.0</td>\n",
       "      <td>conventional</td>\n",
       "      <td>2015</td>\n",
       "      <td>Albany</td>\n",
       "      <td>85311.52</td>\n",
       "    </tr>\n",
       "    <tr>\n",
       "      <td>4</td>\n",
       "      <td>4</td>\n",
       "      <td>2015-11-29</td>\n",
       "      <td>1.28</td>\n",
       "      <td>51039.60</td>\n",
       "      <td>941.48</td>\n",
       "      <td>43838.39</td>\n",
       "      <td>75.78</td>\n",
       "      <td>6183.95</td>\n",
       "      <td>5986.26</td>\n",
       "      <td>197.69</td>\n",
       "      <td>0.0</td>\n",
       "      <td>conventional</td>\n",
       "      <td>2015</td>\n",
       "      <td>Albany</td>\n",
       "      <td>65330.69</td>\n",
       "    </tr>\n",
       "  </tbody>\n",
       "</table>\n",
       "</div>"
      ],
      "text/plain": [
       "   Unnamed: 0        Date  Average Price  Total Volume  Hass Small  \\\n",
       "0           0  2015-12-27           1.33      64236.62     1036.74   \n",
       "1           1  2015-12-20           1.35      54876.98      674.28   \n",
       "2           2  2015-12-13           0.93     118220.22      794.70   \n",
       "3           3  2015-12-06           1.08      78992.15     1132.00   \n",
       "4           4  2015-11-29           1.28      51039.60      941.48   \n",
       "\n",
       "   Hass Large  Hass XLarge  Total Bags  Small Bags  Large Bags  XLarge Bags  \\\n",
       "0    54454.85        48.16     8696.87     8603.62       93.25          0.0   \n",
       "1    44638.81        58.33     9505.56     9408.07       97.49          0.0   \n",
       "2   109149.67       130.50     8145.35     8042.21      103.14          0.0   \n",
       "3    71976.41        72.58     5811.16     5677.40      133.76          0.0   \n",
       "4    43838.39        75.78     6183.95     5986.26      197.69          0.0   \n",
       "\n",
       "           Type  Year  Region  Total Sales  \n",
       "0  conventional  2015  Albany     85434.70  \n",
       "1  conventional  2015  Albany     74083.92  \n",
       "2  conventional  2015  Albany    109944.80  \n",
       "3  conventional  2015  Albany     85311.52  \n",
       "4  conventional  2015  Albany     65330.69  "
      ]
     },
     "execution_count": 4,
     "metadata": {},
     "output_type": "execute_result"
    }
   ],
   "source": [
    "# Dependencies and Setup\n",
    "import pandas as pd\n",
    "import matplotlib.pyplot as plt\n",
    "\n",
    "\n",
    "# File to Load\n",
    "file_to_load = \"output_data/cleaned_avo.csv\"\n",
    "\n",
    "# Read Avocado File and store into Pandas data frame\n",
    "avocado_data = pd.read_csv(file_to_load)\n",
    "\n",
    "# Preview of the DataFrame\n",
    "avocado_data.head()"
   ]
  },
  {
   "cell_type": "code",
   "execution_count": 47,
   "metadata": {},
   "outputs": [
    {
     "name": "stdout",
     "output_type": "stream",
     "text": [
      "Type\n",
      "conventional    9.385999e+09\n",
      "organic         2.726631e+08\n",
      "Name: Total Volume, dtype: float64\n"
     ]
    }
   ],
   "source": [
    "#count avocados by type (conventional vs organic)\n",
    "group = avocado_data.groupby(\"Type\")\n",
    "total = group[\"Total Volume\"].sum()\n",
    "\n",
    "\n",
    "print(total)"
   ]
  },
  {
   "cell_type": "code",
   "execution_count": 28,
   "metadata": {},
   "outputs": [
    {
     "data": {
      "text/plain": [
       "Text(0.5, 1.0, 'Type of Avocado Sales from 2015 - 2018')"
      ]
     },
     "execution_count": 28,
     "metadata": {},
     "output_type": "execute_result"
    },
    {
     "data": {
      "image/png": "[encoded data removed]",
      "text/plain": [
       "<Figure size 432x288 with 1 Axes>"
      ]
     },
     "metadata": {},
     "output_type": "display_data"
    }
   ],
   "source": [
    "#Create PieChart\n",
    "labels = [\"Conventional\", \"Organic\"]\n",
    "counts = [9.385999e+09, 2.726631e+08]\n",
    "\n",
    "avocado_type_df = pd.DataFrame({\n",
    "    \"counts\": counts,\n",
    "    \"labels\": labels\n",
    "})\n",
    "\n",
    "fig, ax = plt.subplots()\n",
    "\n",
    "avocado_type_df.plot.pie(y= \"counts\", explode = (0.05, 0), labels = labels, colors = [\"lightblue\", \"orange\"], autopct=\"%1.1f%%\", shadow=True, startangle = 90, legend = False, ax=ax)\n",
    "\n",
    "\n",
    "ax.set_ylabel(\"\")\n",
    "ax.set_title(\"Type of Avocado Sales from 2015 - 2018\")\n",
    "\n"
   ]
  },
  {
   "cell_type": "code",
   "execution_count": 39,
   "metadata": {},
   "outputs": [
    {
     "data": {
      "text/plain": [
       "Type          Year\n",
       "conventional  2015    2672.913320\n",
       "              2016    2919.990424\n",
       "              2017    2964.395912\n",
       "              2018     828.699669\n",
       "organic       2015      55.300121\n",
       "              2016      81.740325\n",
       "              2017     105.216224\n",
       "              2018      30.406417\n",
       "Name: Total Volume, dtype: float64"
      ]
     },
     "execution_count": 39,
     "metadata": {},
     "output_type": "execute_result"
    }
   ],
   "source": [
    "#Group data by year\n",
    "group_by_year = avocado_data.groupby([\"Type\",\"Year\"])\n",
    "total_by_year = group_by_year[\"Total Volume\"].sum()/1000000\n",
    "total_by_year\n",
    "\n"
   ]
  },
  {
   "cell_type": "code",
   "execution_count": 41,
   "metadata": {},
   "outputs": [
    {
     "data": {
      "text/html": [
       "<div>\n",
       "<style scoped>\n",
       "    .dataframe tbody tr th:only-of-type {\n",
       "        vertical-align: middle;\n",
       "    }\n",
       "\n",
       "    .dataframe tbody tr th {\n",
       "        vertical-align: top;\n",
       "    }\n",
       "\n",
       "    .dataframe thead th {\n",
       "        text-align: right;\n",
       "    }\n",
       "</style>\n",
       "<table border=\"1\" class=\"dataframe\">\n",
       "  <thead>\n",
       "    <tr style=\"text-align: right;\">\n",
       "      <th></th>\n",
       "      <th></th>\n",
       "      <th>Year Totals</th>\n",
       "    </tr>\n",
       "    <tr>\n",
       "      <th>Type</th>\n",
       "      <th>Year</th>\n",
       "      <th></th>\n",
       "    </tr>\n",
       "  </thead>\n",
       "  <tbody>\n",
       "    <tr>\n",
       "      <td rowspan=\"4\" valign=\"top\">conventional</td>\n",
       "      <td>2015</td>\n",
       "      <td>2672.913320</td>\n",
       "    </tr>\n",
       "    <tr>\n",
       "      <td>2016</td>\n",
       "      <td>2919.990424</td>\n",
       "    </tr>\n",
       "    <tr>\n",
       "      <td>2017</td>\n",
       "      <td>2964.395912</td>\n",
       "    </tr>\n",
       "    <tr>\n",
       "      <td>2018</td>\n",
       "      <td>828.699669</td>\n",
       "    </tr>\n",
       "    <tr>\n",
       "      <td rowspan=\"4\" valign=\"top\">organic</td>\n",
       "      <td>2015</td>\n",
       "      <td>55.300121</td>\n",
       "    </tr>\n",
       "    <tr>\n",
       "      <td>2016</td>\n",
       "      <td>81.740325</td>\n",
       "    </tr>\n",
       "    <tr>\n",
       "      <td>2017</td>\n",
       "      <td>105.216224</td>\n",
       "    </tr>\n",
       "    <tr>\n",
       "      <td>2018</td>\n",
       "      <td>30.406417</td>\n",
       "    </tr>\n",
       "  </tbody>\n",
       "</table>\n",
       "</div>"
      ],
      "text/plain": [
       "                   Year Totals\n",
       "Type         Year             \n",
       "conventional 2015  2672.913320\n",
       "             2016  2919.990424\n",
       "             2017  2964.395912\n",
       "             2018   828.699669\n",
       "organic      2015    55.300121\n",
       "             2016    81.740325\n",
       "             2017   105.216224\n",
       "             2018    30.406417"
      ]
     },
     "execution_count": 41,
     "metadata": {},
     "output_type": "execute_result"
    }
   ],
   "source": [
    "#Create DataFrame\n",
    "type_year_bar = pd.DataFrame({\n",
    "    \"Year Totals\": total_by_year\n",
    "    })\n",
    "type_year_bar.head(10)"
   ]
  },
  {
   "cell_type": "code",
   "execution_count": 46,
   "metadata": {},
   "outputs": [
    {
     "data": {
      "text/plain": [
       "Text(0, 0.5, 'Units Sold (in millions)')"
      ]
     },
     "execution_count": 46,
     "metadata": {},
     "output_type": "execute_result"
    },
    {
     "data": {
      "image/png": "[encoded data removed]",
      "text/plain": [
       "<Figure size 720x360 with 1 Axes>"
      ]
     },
     "metadata": {
      "needs_background": "light"
     },
     "output_type": "display_data"
    }
   ],
   "source": [
    "#Create BarChart\n",
    "\n",
    "conventional = [2672.913320, 2919.990424, 2964.395912, 828.699669]\n",
    "organic = [55.300121, 81.740325, 105.216224, 30.406417]\n",
    "index = [2015, 2016, 2017, 2018]\n",
    "\n",
    "df_multiplot = pd.DataFrame({\n",
    "    \"Conventional\": conventional,\n",
    "    \"Organic\": organic}, index = index)\n",
    "\n",
    "multi_plot = df_multiplot.plot(kind = \"bar\", figsize=(10,5))\n",
    "\n",
    "plt.title(\"Type of Avocado Sold Year to Year\")\n",
    "plt.xlabel(\"Year\")\n",
    "plt.ylabel(\"Units Sold (in millions)\")\n",
    "\n"
   ]
  },
  {
   "cell_type": "code",
   "execution_count": null,
   "metadata": {},
   "outputs": [],
   "source": []
  }
 ],
 "metadata": {
  "kernelspec": {
   "display_name": "Python 3",
   "language": "python",
   "name": "python3"
  },
  "language_info": {
   "codemirror_mode": {
    "name": "ipython",
    "version": 3
   },
   "file_extension": ".py",
   "mimetype": "text/x-python",
   "name": "python",
   "nbconvert_exporter": "python",
   "pygments_lexer": "ipython3",
   "version": "3.7.4"
  }
 },
 "nbformat": 4,
 "nbformat_minor": 2
}
