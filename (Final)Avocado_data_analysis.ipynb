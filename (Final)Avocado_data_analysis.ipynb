{
 "cells": [
  {
   "cell_type": "code",
   "execution_count": 1,
   "metadata": {},
   "outputs": [
    {
     "name": "stdout",
     "output_type": "stream",
     "text": [
      "Requirement already satisfied: plotly in /opt/anaconda3/envs/PythonData/lib/python3.6/site-packages (4.5.4)\n",
      "Requirement already satisfied: six in /opt/anaconda3/envs/PythonData/lib/python3.6/site-packages (from plotly) (1.14.0)\n",
      "Requirement already satisfied: retrying>=1.3.3 in /opt/anaconda3/envs/PythonData/lib/python3.6/site-packages (from plotly) (1.3.3)\n",
      "Note: you may need to restart the kernel to use updated packages.\n"
     ]
    }
   ],
   "source": [
    "pip install plotly"
   ]
  },
  {
   "cell_type": "code",
   "execution_count": 1,
   "metadata": {},
   "outputs": [
    {
     "data": {
      "text/html": [
       "<div>\n",
       "<style scoped>\n",
       "    .dataframe tbody tr th:only-of-type {\n",
       "        vertical-align: middle;\n",
       "    }\n",
       "\n",
       "    .dataframe tbody tr th {\n",
       "        vertical-align: top;\n",
       "    }\n",
       "\n",
       "    .dataframe thead th {\n",
       "        text-align: right;\n",
       "    }\n",
       "</style>\n",
       "<table border=\"1\" class=\"dataframe\">\n",
       "  <thead>\n",
       "    <tr style=\"text-align: right;\">\n",
       "      <th></th>\n",
       "      <th>Date</th>\n",
       "      <th>Average Price</th>\n",
       "      <th>Total Volume</th>\n",
       "      <th>Hass Small</th>\n",
       "      <th>Hass Large</th>\n",
       "      <th>Hass XLarge</th>\n",
       "      <th>Total Bags</th>\n",
       "      <th>Small Bags</th>\n",
       "      <th>Large Bags</th>\n",
       "      <th>XLarge Bags</th>\n",
       "      <th>Type</th>\n",
       "      <th>Year</th>\n",
       "      <th>Region</th>\n",
       "      <th>Total Sales</th>\n",
       "    </tr>\n",
       "  </thead>\n",
       "  <tbody>\n",
       "    <tr>\n",
       "      <th>0</th>\n",
       "      <td>2015-12-27</td>\n",
       "      <td>1.33</td>\n",
       "      <td>64236.62</td>\n",
       "      <td>1036.74</td>\n",
       "      <td>54454.85</td>\n",
       "      <td>48.16</td>\n",
       "      <td>8696.87</td>\n",
       "      <td>8603.62</td>\n",
       "      <td>93.25</td>\n",
       "      <td>0.0</td>\n",
       "      <td>conventional</td>\n",
       "      <td>2015</td>\n",
       "      <td>Albany</td>\n",
       "      <td>85434.70</td>\n",
       "    </tr>\n",
       "    <tr>\n",
       "      <th>1</th>\n",
       "      <td>2015-12-20</td>\n",
       "      <td>1.35</td>\n",
       "      <td>54876.98</td>\n",
       "      <td>674.28</td>\n",
       "      <td>44638.81</td>\n",
       "      <td>58.33</td>\n",
       "      <td>9505.56</td>\n",
       "      <td>9408.07</td>\n",
       "      <td>97.49</td>\n",
       "      <td>0.0</td>\n",
       "      <td>conventional</td>\n",
       "      <td>2015</td>\n",
       "      <td>Albany</td>\n",
       "      <td>74083.92</td>\n",
       "    </tr>\n",
       "    <tr>\n",
       "      <th>2</th>\n",
       "      <td>2015-12-13</td>\n",
       "      <td>0.93</td>\n",
       "      <td>118220.22</td>\n",
       "      <td>794.70</td>\n",
       "      <td>109149.67</td>\n",
       "      <td>130.50</td>\n",
       "      <td>8145.35</td>\n",
       "      <td>8042.21</td>\n",
       "      <td>103.14</td>\n",
       "      <td>0.0</td>\n",
       "      <td>conventional</td>\n",
       "      <td>2015</td>\n",
       "      <td>Albany</td>\n",
       "      <td>109944.80</td>\n",
       "    </tr>\n",
       "    <tr>\n",
       "      <th>3</th>\n",
       "      <td>2015-12-06</td>\n",
       "      <td>1.08</td>\n",
       "      <td>78992.15</td>\n",
       "      <td>1132.00</td>\n",
       "      <td>71976.41</td>\n",
       "      <td>72.58</td>\n",
       "      <td>5811.16</td>\n",
       "      <td>5677.40</td>\n",
       "      <td>133.76</td>\n",
       "      <td>0.0</td>\n",
       "      <td>conventional</td>\n",
       "      <td>2015</td>\n",
       "      <td>Albany</td>\n",
       "      <td>85311.52</td>\n",
       "    </tr>\n",
       "    <tr>\n",
       "      <th>4</th>\n",
       "      <td>2015-11-29</td>\n",
       "      <td>1.28</td>\n",
       "      <td>51039.60</td>\n",
       "      <td>941.48</td>\n",
       "      <td>43838.39</td>\n",
       "      <td>75.78</td>\n",
       "      <td>6183.95</td>\n",
       "      <td>5986.26</td>\n",
       "      <td>197.69</td>\n",
       "      <td>0.0</td>\n",
       "      <td>conventional</td>\n",
       "      <td>2015</td>\n",
       "      <td>Albany</td>\n",
       "      <td>65330.69</td>\n",
       "    </tr>\n",
       "  </tbody>\n",
       "</table>\n",
       "</div>"
      ],
      "text/plain": [
       "         Date  Average Price  Total Volume  Hass Small  Hass Large  \\\n",
       "0  2015-12-27           1.33      64236.62     1036.74    54454.85   \n",
       "1  2015-12-20           1.35      54876.98      674.28    44638.81   \n",
       "2  2015-12-13           0.93     118220.22      794.70   109149.67   \n",
       "3  2015-12-06           1.08      78992.15     1132.00    71976.41   \n",
       "4  2015-11-29           1.28      51039.60      941.48    43838.39   \n",
       "\n",
       "   Hass XLarge  Total Bags  Small Bags  Large Bags  XLarge Bags          Type  \\\n",
       "0        48.16     8696.87     8603.62       93.25          0.0  conventional   \n",
       "1        58.33     9505.56     9408.07       97.49          0.0  conventional   \n",
       "2       130.50     8145.35     8042.21      103.14          0.0  conventional   \n",
       "3        72.58     5811.16     5677.40      133.76          0.0  conventional   \n",
       "4        75.78     6183.95     5986.26      197.69          0.0  conventional   \n",
       "\n",
       "   Year  Region  Total Sales  \n",
       "0  2015  Albany     85434.70  \n",
       "1  2015  Albany     74083.92  \n",
       "2  2015  Albany    109944.80  \n",
       "3  2015  Albany     85311.52  \n",
       "4  2015  Albany     65330.69  "
      ]
     },
     "execution_count": 1,
     "metadata": {},
     "output_type": "execute_result"
    }
   ],
   "source": [
    "# Dependencies and Setup\n",
    "import pandas as pd\n",
    "import matplotlib.pyplot as plt\n",
    "import numpy as np\n",
    "import plotly.express as px\n",
    "import datetime\n",
    "import calendar\n",
    "from scipy.stats import linregress\n",
    "import seaborn as sns\n",
    "\n",
    "# File to Load\n",
    "file_to_load = \"output_data/cleaned_avo.csv\"\n",
    "\n",
    "# Read Avocado File and store into Pandas data frame\n",
    "avocado_data = pd.read_csv(file_to_load)\n",
    "avocado_data=avocado_data.drop(columns='Unnamed: 0',axis=1)\n",
    "\n",
    "# Preview of the DataFrame\n",
    "avocado_data.head()"
   ]
  },
  {
   "cell_type": "markdown",
   "metadata": {},
   "source": [
    "# Gina"
   ]
  },
  {
   "cell_type": "markdown",
   "metadata": {},
   "source": [
    "Growth: Identify year over year growth"
   ]
  },
  {
   "cell_type": "code",
   "execution_count": 2,
   "metadata": {},
   "outputs": [],
   "source": [
    "# Group data by year\n",
    "year_view = avocado_data.groupby([\"Year\"])\n",
    "# Calculations for analysis\n",
    "total_volume = year_view[\"Total Volume\"].sum()/1000000\n",
    "# YoY Analysis data frame\n",
    "YOY_df = pd.DataFrame({\"Total Volume (in millions)\": total_volume})"
   ]
  },
  {
   "cell_type": "code",
   "execution_count": 4,
   "metadata": {},
   "outputs": [
    {
     "data": {
      "image/png": "[encoded data removed]",
      "text/plain": [
       "<Figure size 432x288 with 1 Axes>"
      ]
     },
     "metadata": {
      "needs_background": "light"
     },
     "output_type": "display_data"
    }
   ],
   "source": [
    "# Generate a bar plot showing YoY trends\n",
    "YOY_df.plot(kind =\"bar\", title = \"YoY Avocado Sales Volume\",color=(\"blue\",\"blue\",\"blue\",'coral'),legend=False)\n",
    "# Label x-axis\n",
    "plt.xlabel(\"Year\")\n",
    "plt.ylabel(\"Unit Sales (in millions)\")\n",
    "# Show pandas bar plot\n",
    "plt.savefig('Bar_YoY_sales',bbox_inches='tight')\n",
    "plt.show()"
   ]
  },
  {
   "cell_type": "code",
   "execution_count": 5,
   "metadata": {},
   "outputs": [
    {
     "data": {
      "text/html": [
       "<div>\n",
       "<style scoped>\n",
       "    .dataframe tbody tr th:only-of-type {\n",
       "        vertical-align: middle;\n",
       "    }\n",
       "\n",
       "    .dataframe tbody tr th {\n",
       "        vertical-align: top;\n",
       "    }\n",
       "\n",
       "    .dataframe thead th {\n",
       "        text-align: right;\n",
       "    }\n",
       "</style>\n",
       "<table border=\"1\" class=\"dataframe\">\n",
       "  <thead>\n",
       "    <tr style=\"text-align: right;\">\n",
       "      <th></th>\n",
       "      <th>Total Volume (in millions)</th>\n",
       "    </tr>\n",
       "    <tr>\n",
       "      <th>Year</th>\n",
       "      <th></th>\n",
       "    </tr>\n",
       "  </thead>\n",
       "  <tbody>\n",
       "    <tr>\n",
       "      <th>2018</th>\n",
       "      <td>859.11</td>\n",
       "    </tr>\n",
       "    <tr>\n",
       "      <th>2017</th>\n",
       "      <td>3,069.61</td>\n",
       "    </tr>\n",
       "    <tr>\n",
       "      <th>2016</th>\n",
       "      <td>3,001.73</td>\n",
       "    </tr>\n",
       "    <tr>\n",
       "      <th>2015</th>\n",
       "      <td>2,728.21</td>\n",
       "    </tr>\n",
       "  </tbody>\n",
       "</table>\n",
       "</div>"
      ],
      "text/plain": [
       "     Total Volume (in millions)\n",
       "Year                           \n",
       "2018                     859.11\n",
       "2017                   3,069.61\n",
       "2016                   3,001.73\n",
       "2015                   2,728.21"
      ]
     },
     "execution_count": 5,
     "metadata": {},
     "output_type": "execute_result"
    }
   ],
   "source": [
    "# Formatting data frame\n",
    "YOY_df = YOY_df.round(2)\n",
    "YOY_df[\"Total Volume (in millions)\"] = YOY_df[\"Total Volume (in millions)\"].map(\"{:,}\".format)\n",
    "# Display dataframe - raw numbers YOY\n",
    "YOY_df.sort_values(by = [\"Year\"], ascending=False)"
   ]
  },
  {
   "cell_type": "markdown",
   "metadata": {},
   "source": [
    "Seasonality: Identify month over month trends."
   ]
  },
  {
   "cell_type": "code",
   "execution_count": 6,
   "metadata": {},
   "outputs": [],
   "source": [
    "# Isolate needed columns for MoM trending\n",
    "MoM_avo = avocado_data.loc[:,[\"Date\", \"Total Volume\", \"Total Sales\", \"Year\"]]\n",
    "# Add month column and extract month using datetime import\n",
    "MoM_avo[\"Month\"] = pd.DatetimeIndex(MoM_avo['Date']).month\n",
    "# Group data by month\n",
    "month_view = MoM_avo.groupby([\"Month\"])\n",
    "# Calculations for analysis\n",
    "total_sales = month_view[\"Total Sales\"].sum()/1000000\n",
    "total_volume = month_view[\"Total Volume\"].sum()/1000000\n",
    "# MoM Analysis data frame\n",
    "MoM_df = pd.DataFrame({\n",
    "    \"Total Volume (in millions)\": total_volume,\n",
    "    })"
   ]
  },
  {
   "cell_type": "code",
   "execution_count": 7,
   "metadata": {},
   "outputs": [
    {
     "data": {
      "image/png": "[encoded data removed]",
      "text/plain": [
       "<Figure size 432x288 with 1 Axes>"
      ]
     },
     "metadata": {
      "needs_background": "light"
     },
     "output_type": "display_data"
    }
   ],
   "source": [
    "# Create a line chart from grouped MoM_df\n",
    "MoM_line = MoM_df.plot(kind='line')\n",
    "# Set the xlabel and ylabel using class methods\n",
    "MoM_line.set_xlabel(\"Month\")\n",
    "MoM_line.set_ylabel(\"Unit Sales (in millions)\")\n",
    "MoM_line.set_title(\"US Avocado Sales MoM\")\n",
    "# Display MoM line chart\n",
    "plt.savefig('Line_MoM_sales',bbox_inches='tight')\n",
    "plt.show()"
   ]
  },
  {
   "cell_type": "markdown",
   "metadata": {},
   "source": [
    "# Abby"
   ]
  },
  {
   "cell_type": "code",
   "execution_count": 3,
   "metadata": {},
   "outputs": [
    {
     "data": {
      "text/html": [
       "<div>\n",
       "<style scoped>\n",
       "    .dataframe tbody tr th:only-of-type {\n",
       "        vertical-align: middle;\n",
       "    }\n",
       "\n",
       "    .dataframe tbody tr th {\n",
       "        vertical-align: top;\n",
       "    }\n",
       "\n",
       "    .dataframe thead th {\n",
       "        text-align: right;\n",
       "    }\n",
       "</style>\n",
       "<table border=\"1\" class=\"dataframe\">\n",
       "  <thead>\n",
       "    <tr style=\"text-align: right;\">\n",
       "      <th></th>\n",
       "      <th>2015</th>\n",
       "      <th>2016</th>\n",
       "      <th>2017</th>\n",
       "      <th>2018</th>\n",
       "    </tr>\n",
       "    <tr>\n",
       "      <th>Region</th>\n",
       "      <th></th>\n",
       "      <th></th>\n",
       "      <th></th>\n",
       "      <th></th>\n",
       "    </tr>\n",
       "  </thead>\n",
       "  <tbody>\n",
       "    <tr>\n",
       "      <th>Albany</th>\n",
       "      <td>4.029896</td>\n",
       "      <td>5.264336</td>\n",
       "      <td>5.231582</td>\n",
       "      <td>1.541986</td>\n",
       "    </tr>\n",
       "    <tr>\n",
       "      <th>Atlanta</th>\n",
       "      <td>23.231698</td>\n",
       "      <td>28.326878</td>\n",
       "      <td>28.815120</td>\n",
       "      <td>8.231422</td>\n",
       "    </tr>\n",
       "    <tr>\n",
       "      <th>BaltimoreWashington</th>\n",
       "      <td>40.645580</td>\n",
       "      <td>40.893802</td>\n",
       "      <td>41.015634</td>\n",
       "      <td>12.158903</td>\n",
       "    </tr>\n",
       "    <tr>\n",
       "      <th>Boise</th>\n",
       "      <td>3.784357</td>\n",
       "      <td>4.653510</td>\n",
       "      <td>4.760561</td>\n",
       "      <td>1.214760</td>\n",
       "    </tr>\n",
       "    <tr>\n",
       "      <th>Boston</th>\n",
       "      <td>27.454992</td>\n",
       "      <td>30.571315</td>\n",
       "      <td>30.610672</td>\n",
       "      <td>8.637006</td>\n",
       "    </tr>\n",
       "  </tbody>\n",
       "</table>\n",
       "</div>"
      ],
      "text/plain": [
       "                          2015       2016       2017       2018\n",
       "Region                                                         \n",
       "Albany                4.029896   5.264336   5.231582   1.541986\n",
       "Atlanta              23.231698  28.326878  28.815120   8.231422\n",
       "BaltimoreWashington  40.645580  40.893802  41.015634  12.158903\n",
       "Boise                 3.784357   4.653510   4.760561   1.214760\n",
       "Boston               27.454992  30.571315  30.610672   8.637006"
      ]
     },
     "execution_count": 3,
     "metadata": {},
     "output_type": "execute_result"
    }
   ],
   "source": [
    "# Grouping by region\n",
    "data15=avocado_data[avocado_data['Year']==2015].groupby('Region')\n",
    "data16=avocado_data[avocado_data['Year']==2016].groupby('Region')\n",
    "data17=avocado_data[avocado_data['Year']==2017].groupby('Region')\n",
    "data18=avocado_data[avocado_data['Year']==2018].groupby('Region')\n",
    "# Calculations for totalvol(in millions)\n",
    "T5=data15['Total Volume'].sum()/1000000\n",
    "T6=data16['Total Volume'].sum()/1000000\n",
    "T7=data17['Total Volume'].sum()/1000000\n",
    "T8=data18['Total Volume'].sum()/1000000\n",
    "# Region dataframe\n",
    "totalvol_sum=pd.DataFrame({\"2015\": T5,\"2016\":T6,\"2017\":T7,\"2018\":T8})\n",
    "totalvol_sum.head()"
   ]
  },
  {
   "cell_type": "code",
   "execution_count": 8,
   "metadata": {},
   "outputs": [
    {
     "data": {
      "text/html": [
       "<div>\n",
       "<style scoped>\n",
       "    .dataframe tbody tr th:only-of-type {\n",
       "        vertical-align: middle;\n",
       "    }\n",
       "\n",
       "    .dataframe tbody tr th {\n",
       "        vertical-align: top;\n",
       "    }\n",
       "\n",
       "    .dataframe thead th {\n",
       "        text-align: right;\n",
       "    }\n",
       "</style>\n",
       "<table border=\"1\" class=\"dataframe\">\n",
       "  <thead>\n",
       "    <tr style=\"text-align: right;\">\n",
       "      <th></th>\n",
       "      <th>2015</th>\n",
       "      <th>2016</th>\n",
       "      <th>2017</th>\n",
       "      <th>2018</th>\n",
       "      <th>Total</th>\n",
       "    </tr>\n",
       "    <tr>\n",
       "      <th>Region</th>\n",
       "      <th></th>\n",
       "      <th></th>\n",
       "      <th></th>\n",
       "      <th></th>\n",
       "      <th></th>\n",
       "    </tr>\n",
       "  </thead>\n",
       "  <tbody>\n",
       "    <tr>\n",
       "      <th>Albany</th>\n",
       "      <td>4.029896</td>\n",
       "      <td>5.264336</td>\n",
       "      <td>5.231582</td>\n",
       "      <td>1.541986</td>\n",
       "      <td>16.067800</td>\n",
       "    </tr>\n",
       "    <tr>\n",
       "      <th>Atlanta</th>\n",
       "      <td>23.231698</td>\n",
       "      <td>28.326878</td>\n",
       "      <td>28.815120</td>\n",
       "      <td>8.231422</td>\n",
       "      <td>88.605119</td>\n",
       "    </tr>\n",
       "    <tr>\n",
       "      <th>BaltimoreWashington</th>\n",
       "      <td>40.645580</td>\n",
       "      <td>40.893802</td>\n",
       "      <td>41.015634</td>\n",
       "      <td>12.158903</td>\n",
       "      <td>134.713919</td>\n",
       "    </tr>\n",
       "    <tr>\n",
       "      <th>Boise</th>\n",
       "      <td>3.784357</td>\n",
       "      <td>4.653510</td>\n",
       "      <td>4.760561</td>\n",
       "      <td>1.214760</td>\n",
       "      <td>14.413188</td>\n",
       "    </tr>\n",
       "    <tr>\n",
       "      <th>Boston</th>\n",
       "      <td>27.454992</td>\n",
       "      <td>30.571315</td>\n",
       "      <td>30.610672</td>\n",
       "      <td>8.637006</td>\n",
       "      <td>97.273985</td>\n",
       "    </tr>\n",
       "  </tbody>\n",
       "</table>\n",
       "</div>"
      ],
      "text/plain": [
       "                          2015       2016       2017       2018       Total\n",
       "Region                                                                     \n",
       "Albany                4.029896   5.264336   5.231582   1.541986   16.067800\n",
       "Atlanta              23.231698  28.326878  28.815120   8.231422   88.605119\n",
       "BaltimoreWashington  40.645580  40.893802  41.015634  12.158903  134.713919\n",
       "Boise                 3.784357   4.653510   4.760561   1.214760   14.413188\n",
       "Boston               27.454992  30.571315  30.610672   8.637006   97.273985"
      ]
     },
     "execution_count": 8,
     "metadata": {},
     "output_type": "execute_result"
    }
   ],
   "source": [
    "# Remove top 8 regions\n",
    "Without_8=totalvol_sum.drop(['California','GreatLakes','Midsouth','Northeast','Plains','SouthCentral','Southeast','West'])\n",
    "sum_column = Without_8[\"2015\"] + Without_8[\"2016\"]+Without_8[\"2017\"]+Without_8[\"2018\"]\n",
    "Without_8['Total']=sum_column\n",
    "\n"
   ]
  },
  {
   "cell_type": "code",
   "execution_count": 9,
   "metadata": {},
   "outputs": [
    {
     "data": {
      "text/plain": [
       "3793.9222295799996"
      ]
     },
     "execution_count": 9,
     "metadata": {},
     "output_type": "execute_result"
    }
   ],
   "source": [
    "Without_8['Total'].sum()"
   ]
  },
  {
   "cell_type": "code",
   "execution_count": 6,
   "metadata": {},
   "outputs": [],
   "source": [
    "# Top 8 sold the most avo\n",
    "top8=totalvol_sum.loc[['California','GreatLakes','Midsouth','Northeast','Plains','SouthCentral','Southeast','West']]\n",
    "top8.head()\n",
    "\n"
   ]
  },
  {
   "cell_type": "code",
   "execution_count": 10,
   "metadata": {},
   "outputs": [
    {
     "data": {
      "text/html": [
       "<div>\n",
       "<style scoped>\n",
       "    .dataframe tbody tr th:only-of-type {\n",
       "        vertical-align: middle;\n",
       "    }\n",
       "\n",
       "    .dataframe tbody tr th {\n",
       "        vertical-align: top;\n",
       "    }\n",
       "\n",
       "    .dataframe thead th {\n",
       "        text-align: right;\n",
       "    }\n",
       "</style>\n",
       "<table border=\"1\" class=\"dataframe\">\n",
       "  <thead>\n",
       "    <tr style=\"text-align: right;\">\n",
       "      <th></th>\n",
       "      <th>City</th>\n",
       "      <th>Population</th>\n",
       "    </tr>\n",
       "  </thead>\n",
       "  <tbody>\n",
       "    <tr>\n",
       "      <th>1</th>\n",
       "      <td>United States</td>\n",
       "      <td>308745538</td>\n",
       "    </tr>\n",
       "    <tr>\n",
       "      <th>2</th>\n",
       "      <td>Alabama</td>\n",
       "      <td>4779736</td>\n",
       "    </tr>\n",
       "    <tr>\n",
       "      <th>3</th>\n",
       "      <td>Auburn city</td>\n",
       "      <td>53380</td>\n",
       "    </tr>\n",
       "    <tr>\n",
       "      <th>4</th>\n",
       "      <td>Birmingham city</td>\n",
       "      <td>212237</td>\n",
       "    </tr>\n",
       "    <tr>\n",
       "      <th>5</th>\n",
       "      <td>Decatur city</td>\n",
       "      <td>55683</td>\n",
       "    </tr>\n",
       "  </tbody>\n",
       "</table>\n",
       "</div>"
      ],
      "text/plain": [
       "              City Population\n",
       "1    United States  308745538\n",
       "2          Alabama    4779736\n",
       "3      Auburn city      53380\n",
       "4  Birmingham city     212237\n",
       "5     Decatur city      55683"
      ]
     },
     "execution_count": 10,
     "metadata": {},
     "output_type": "execute_result"
    }
   ],
   "source": [
    "# File to Load\n",
    "file = \"./Resources/p.csv\"\n",
    "# Read Population csv and store into Pandas data frame\n",
    "popdata = pd.read_csv(file, encoding=\"ISO-8859-1\")\n",
    "df_pop=popdata.drop([\n",
    "    'GEO.id', 'GEO.id2','GEO.display-label','GCT_STUB.target-geo-id','GCT_STUB.target-geo-id2','GCT_STUB.display-label'\n",
    "], axis=1)\n",
    "df_pop=df_pop.drop(0)\n",
    "df_pop=df_pop.rename(columns={\"GCT_STUB.display-label.1\":\"City\",\"HD01\":\"P\",})\n",
    "pop=df_pop['P']\n",
    "sep=pop.str.split(\"(\",expand=True)\n",
    "population=sep[0]\n",
    "df_pop[\"Population\"]=population\n",
    "df_pop=df_pop.drop(columns=\"P\")\n",
    "df_pop.head()"
   ]
  },
  {
   "cell_type": "code",
   "execution_count": 11,
   "metadata": {},
   "outputs": [],
   "source": [
    "# Covert object to float\n",
    "df_pop['Population']=df_pop['Population'].astype(float)\n",
    "# get pop from census data\n",
    "Northeast=['West Virginia','Maryland','Delaware','New Jersey','Connecticut','Rhode Island','Massachusetts','Vermont','New Hampshire','New York','Pennsylvania','Maine']\n",
    "Northeast=df_pop.loc[df_pop['City'].apply(lambda x: x in Northeast)]\n",
    "Midsouth=['Kentucky','Virginia','Tennessee','Maryland','North Carolina','South Carolina']\n",
    "Midsouth=df_pop.loc[df_pop['City'].apply(lambda y: y in Midsouth)]\n",
    "Southeast=['Mississippi','Alabama','Georgia','Florida']\n",
    "Southeast=df_pop.loc[df_pop['City'].apply(lambda a: a in Southeast)]\n",
    "Plains=['North Dakota','South Dakota','Minnesota','Nebraska','Iowa','Kansas','Missouri']\n",
    "Plains=df_pop.loc[df_pop['City'].apply(lambda b: b in Plains)]\n",
    "SouthCentral=['Oklahoma','Arkansas','Texas','Louisiana']\n",
    "SouthCentral=df_pop.loc[df_pop['City'].apply(lambda b: b in SouthCentral)]\n",
    "Greatlakes=['Wisconsin','Illinois','Indiana','Michigan','Ohio']\n",
    "Greatlakes=df_pop.loc[df_pop['City'].apply(lambda b: b in Greatlakes)]\n",
    "West=['Washington','Oregon','Idaho','Montana','Wyoming','Nevada','Utah','Colorado','Arizona','New Mexico']\n",
    "West=df_pop.loc[df_pop['City'].apply(lambda b: b in West)]\n",
    "Ca=df_pop.loc[df_pop['City']=='California']"
   ]
  },
  {
   "cell_type": "code",
   "execution_count": 12,
   "metadata": {},
   "outputs": [],
   "source": [
    "# add up region's population\n",
    "n=Northeast[\"Population\"].sum()\n",
    "m=Midsouth[\"Population\"].sum()\n",
    "s=Southeast[\"Population\"].sum()\n",
    "sc=SouthCentral[\"Population\"].sum()\n",
    "p=Plains[\"Population\"].sum()\n",
    "g=Greatlakes[\"Population\"].sum()\n",
    "w=West[\"Population\"].sum()\n",
    "c=Ca[\"Population\"].sum()"
   ]
  },
  {
   "cell_type": "code",
   "execution_count": 13,
   "metadata": {},
   "outputs": [],
   "source": [
    "# assign the pop back to top dataframe\n",
    "top8['Population']=(c,g,m,n,p,sc,s,w)\n",
    "top8['2015 per capita']=(top8['2015']/top8['Population'])*1000000\n",
    "top8['2016 per capita']=(top8['2016']/top8['Population'])*1000000\n",
    "top8['2017 per capita']=(top8['2017']/top8['Population'])*1000000\n",
    "top8['2018 per capita']=(top8['2018']/top8['Population'])*1000000\n",
    "#drop out the columns that don't use\n",
    "top8=top8.drop(columns=['2015','2016','2017','2018','Population'])"
   ]
  },
  {
   "cell_type": "code",
   "execution_count": 14,
   "metadata": {},
   "outputs": [
    {
     "data": {
      "text/html": [
       "<div>\n",
       "<style scoped>\n",
       "    .dataframe tbody tr th:only-of-type {\n",
       "        vertical-align: middle;\n",
       "    }\n",
       "\n",
       "    .dataframe tbody tr th {\n",
       "        vertical-align: top;\n",
       "    }\n",
       "\n",
       "    .dataframe thead th {\n",
       "        text-align: right;\n",
       "    }\n",
       "</style>\n",
       "<table border=\"1\" class=\"dataframe\">\n",
       "  <thead>\n",
       "    <tr style=\"text-align: right;\">\n",
       "      <th></th>\n",
       "      <th>2015 per capita</th>\n",
       "      <th>2016 per capita</th>\n",
       "      <th>2017 per capita</th>\n",
       "      <th>2018 per capita</th>\n",
       "    </tr>\n",
       "    <tr>\n",
       "      <th>Region</th>\n",
       "      <th></th>\n",
       "      <th></th>\n",
       "      <th></th>\n",
       "      <th></th>\n",
       "    </tr>\n",
       "  </thead>\n",
       "  <tbody>\n",
       "    <tr>\n",
       "      <th>California</th>\n",
       "      <td>8.090615</td>\n",
       "      <td>8.755805</td>\n",
       "      <td>8.526464</td>\n",
       "      <td>2.247850</td>\n",
       "    </tr>\n",
       "    <tr>\n",
       "      <th>GreatLakes</th>\n",
       "      <td>3.648907</td>\n",
       "      <td>3.828825</td>\n",
       "      <td>4.079007</td>\n",
       "      <td>1.145172</td>\n",
       "    </tr>\n",
       "    <tr>\n",
       "      <th>Midsouth</th>\n",
       "      <td>3.630727</td>\n",
       "      <td>3.994224</td>\n",
       "      <td>4.286632</td>\n",
       "      <td>1.250965</td>\n",
       "    </tr>\n",
       "    <tr>\n",
       "      <th>Northeast</th>\n",
       "      <td>3.185675</td>\n",
       "      <td>3.429279</td>\n",
       "      <td>3.518817</td>\n",
       "      <td>1.038875</td>\n",
       "    </tr>\n",
       "    <tr>\n",
       "      <th>Plains</th>\n",
       "      <td>4.273929</td>\n",
       "      <td>4.644702</td>\n",
       "      <td>4.890412</td>\n",
       "      <td>1.366861</td>\n",
       "    </tr>\n",
       "    <tr>\n",
       "      <th>SouthCentral</th>\n",
       "      <td>7.991333</td>\n",
       "      <td>8.366726</td>\n",
       "      <td>8.953415</td>\n",
       "      <td>2.512056</td>\n",
       "    </tr>\n",
       "    <tr>\n",
       "      <th>Southeast</th>\n",
       "      <td>4.418126</td>\n",
       "      <td>5.467532</td>\n",
       "      <td>5.429332</td>\n",
       "      <td>1.663663</td>\n",
       "    </tr>\n",
       "    <tr>\n",
       "      <th>West</th>\n",
       "      <td>9.339680</td>\n",
       "      <td>10.563031</td>\n",
       "      <td>10.577656</td>\n",
       "      <td>2.834889</td>\n",
       "    </tr>\n",
       "  </tbody>\n",
       "</table>\n",
       "</div>"
      ],
      "text/plain": [
       "              2015 per capita  2016 per capita  2017 per capita  \\\n",
       "Region                                                            \n",
       "California           8.090615         8.755805         8.526464   \n",
       "GreatLakes           3.648907         3.828825         4.079007   \n",
       "Midsouth             3.630727         3.994224         4.286632   \n",
       "Northeast            3.185675         3.429279         3.518817   \n",
       "Plains               4.273929         4.644702         4.890412   \n",
       "SouthCentral         7.991333         8.366726         8.953415   \n",
       "Southeast            4.418126         5.467532         5.429332   \n",
       "West                 9.339680        10.563031        10.577656   \n",
       "\n",
       "              2018 per capita  \n",
       "Region                         \n",
       "California           2.247850  \n",
       "GreatLakes           1.145172  \n",
       "Midsouth             1.250965  \n",
       "Northeast            1.038875  \n",
       "Plains               1.366861  \n",
       "SouthCentral         2.512056  \n",
       "Southeast            1.663663  \n",
       "West                 2.834889  "
      ]
     },
     "execution_count": 14,
     "metadata": {},
     "output_type": "execute_result"
    }
   ],
   "source": [
    "top8"
   ]
  },
  {
   "cell_type": "code",
   "execution_count": 15,
   "metadata": {},
   "outputs": [
    {
     "data": {
      "image/png": "[encoded data removed]",
      "text/plain": [
       "<Figure size 936x720 with 1 Axes>"
      ]
     },
     "metadata": {
      "needs_background": "light"
     },
     "output_type": "display_data"
    }
   ],
   "source": [
    "# top 8 \n",
    "fig, ax = plt.subplots() \n",
    "top8.plot(kind='bar',figsize=(13,10),rot=0,fontsize=15,ax=ax).legend(loc='upper center')\n",
    "ax.set(title='Avocados per Capita Sold',ylabel='Total volume')\n",
    "plt.savefig('Bar_avo_capita',bbox_inches='tight')"
   ]
  },
  {
   "cell_type": "code",
   "execution_count": 16,
   "metadata": {},
   "outputs": [
    {
     "data": {
      "image/png": "[encoded data removed]",
      "text/plain": [
       "<Figure size 720x432 with 1 Axes>"
      ]
     },
     "metadata": {
      "needs_background": "light"
     },
     "output_type": "display_data"
    }
   ],
   "source": [
    "# Region (no top 8) by sales volume - all years\n",
    "Without_8=totalvol_sum.drop(['California','GreatLakes','Midsouth','Northeast','Plains','SouthCentral','Southeast','West'])\n",
    "Without_8['Total']=''\n",
    "sum_column = Without_8[\"2015\"] + Without_8[\"2016\"]+Without_8[\"2017\"]+Without_8[\"2018\"]\n",
    "Without_8['Total']=sum_column\n",
    "# Create a bar chart for Total Vol by Region\n",
    "x_axis = np.arange(len(Without_8))\n",
    "plt.figure(figsize=(10,6))\n",
    "tick_locations = [value for value in x_axis]\n",
    "plt.bar(x_axis,Without_8['Total'], color=\"#ff4d94\")\n",
    "plt.title('Total Volume by Region over 4 years')\n",
    "plt.xlabel('Region')\n",
    "plt.ylabel('Total Volume (Million)')\n",
    "plt.xticks(tick_locations, Without_8.index,rotation='vertical')\n",
    "plt.savefig('Bar_Totalvol_Region',bbox_inches='tight')\n",
    "plt.show()"
   ]
  },
  {
   "cell_type": "markdown",
   "metadata": {},
   "source": [
    "# Jacob"
   ]
  },
  {
   "cell_type": "code",
   "execution_count": 17,
   "metadata": {},
   "outputs": [
    {
     "data": {
      "image/png": "[encoded data removed]",
      "text/plain": [
       "<Figure size 432x288 with 1 Axes>"
      ]
     },
     "metadata": {},
     "output_type": "display_data"
    }
   ],
   "source": [
    "# Count avocados by type (conventional vs organic)\n",
    "group = avocado_data.groupby(\"Type\")\n",
    "total = group[\"Total Volume\"].sum()\n",
    "\n",
    "# Create PieChart\n",
    "labels = [\"Conventional\", \"Organic\"]\n",
    "counts = [9.385999e+09, 2.726631e+08]\n",
    "avocado_type_df = pd.DataFrame({\"counts\": counts,\"labels\": labels})\n",
    "fig, ax = plt.subplots()\n",
    "avocado_type_df.plot.pie(y= \"counts\", explode = (0.05, 0), labels = labels, colors = [\"lightblue\", \"orange\"], \n",
    "                         autopct=\"%1.1f%%\", shadow=True, startangle = 90, legend = False, ax=ax)\n",
    "ax.set_ylabel(\"\")\n",
    "ax.set_title(\"Type of Avocado Sales from 2015 - 2018\")\n",
    "plt.savefig('Pie_Type_of_Avocado')"
   ]
  },
  {
   "cell_type": "code",
   "execution_count": 18,
   "metadata": {},
   "outputs": [
    {
     "data": {
      "text/html": [
       "<div>\n",
       "<style scoped>\n",
       "    .dataframe tbody tr th:only-of-type {\n",
       "        vertical-align: middle;\n",
       "    }\n",
       "\n",
       "    .dataframe tbody tr th {\n",
       "        vertical-align: top;\n",
       "    }\n",
       "\n",
       "    .dataframe thead th {\n",
       "        text-align: right;\n",
       "    }\n",
       "</style>\n",
       "<table border=\"1\" class=\"dataframe\">\n",
       "  <thead>\n",
       "    <tr style=\"text-align: right;\">\n",
       "      <th></th>\n",
       "      <th></th>\n",
       "      <th>Year Totals</th>\n",
       "    </tr>\n",
       "    <tr>\n",
       "      <th>Type</th>\n",
       "      <th>Year</th>\n",
       "      <th></th>\n",
       "    </tr>\n",
       "  </thead>\n",
       "  <tbody>\n",
       "    <tr>\n",
       "      <th rowspan=\"4\" valign=\"top\">conventional</th>\n",
       "      <th>2015</th>\n",
       "      <td>2672.913320</td>\n",
       "    </tr>\n",
       "    <tr>\n",
       "      <th>2016</th>\n",
       "      <td>2919.990424</td>\n",
       "    </tr>\n",
       "    <tr>\n",
       "      <th>2017</th>\n",
       "      <td>2964.395912</td>\n",
       "    </tr>\n",
       "    <tr>\n",
       "      <th>2018</th>\n",
       "      <td>828.699669</td>\n",
       "    </tr>\n",
       "    <tr>\n",
       "      <th rowspan=\"4\" valign=\"top\">organic</th>\n",
       "      <th>2015</th>\n",
       "      <td>55.300121</td>\n",
       "    </tr>\n",
       "    <tr>\n",
       "      <th>2016</th>\n",
       "      <td>81.740325</td>\n",
       "    </tr>\n",
       "    <tr>\n",
       "      <th>2017</th>\n",
       "      <td>105.216224</td>\n",
       "    </tr>\n",
       "    <tr>\n",
       "      <th>2018</th>\n",
       "      <td>30.406417</td>\n",
       "    </tr>\n",
       "  </tbody>\n",
       "</table>\n",
       "</div>"
      ],
      "text/plain": [
       "                   Year Totals\n",
       "Type         Year             \n",
       "conventional 2015  2672.913320\n",
       "             2016  2919.990424\n",
       "             2017  2964.395912\n",
       "             2018   828.699669\n",
       "organic      2015    55.300121\n",
       "             2016    81.740325\n",
       "             2017   105.216224\n",
       "             2018    30.406417"
      ]
     },
     "execution_count": 18,
     "metadata": {},
     "output_type": "execute_result"
    }
   ],
   "source": [
    "# Group data by year\n",
    "group_by_year = avocado_data.groupby([\"Type\",\"Year\"])\n",
    "total_by_year = group_by_year[\"Total Volume\"].sum()/1000000\n",
    "# Create DataFrame\n",
    "type_year_bar = pd.DataFrame({\"Year Totals\": total_by_year})\n",
    "type_year_bar.head(10)"
   ]
  },
  {
   "cell_type": "code",
   "execution_count": 19,
   "metadata": {},
   "outputs": [
    {
     "data": {
      "image/png": "[encoded data removed]",
      "text/plain": [
       "<Figure size 720x360 with 1 Axes>"
      ]
     },
     "metadata": {
      "needs_background": "light"
     },
     "output_type": "display_data"
    }
   ],
   "source": [
    "# Create BarChart\n",
    "conventional = [2672.913320, 2919.990424, 2964.395912, 828.699669]\n",
    "organic = [55.300121, 81.740325, 105.216224, 30.406417]\n",
    "index = [2015, 2016, 2017, 2018]\n",
    "df_multiplot = pd.DataFrame({\n",
    "    \"Conventional\": conventional,\n",
    "    \"Organic\": organic}, index = index)\n",
    "multi_plot = df_multiplot.plot(kind = \"bar\", figsize=(10,5))\n",
    "plt.title(\"Sales Volume: Conventional versus Organic Avocados\")\n",
    "plt.xlabel(\"Year\")\n",
    "plt.ylabel(\"Units Sold (in millions)\")\n",
    "plt.savefig('Bar_Type_of_Avocado.png',bbox_inches='tight')"
   ]
  },
  {
   "cell_type": "markdown",
   "metadata": {},
   "source": [
    "# Ray"
   ]
  },
  {
   "cell_type": "code",
   "execution_count": 20,
   "metadata": {},
   "outputs": [
    {
     "data": {
      "text/html": [
       "<div>\n",
       "<style scoped>\n",
       "    .dataframe tbody tr th:only-of-type {\n",
       "        vertical-align: middle;\n",
       "    }\n",
       "\n",
       "    .dataframe tbody tr th {\n",
       "        vertical-align: top;\n",
       "    }\n",
       "\n",
       "    .dataframe thead th {\n",
       "        text-align: right;\n",
       "    }\n",
       "</style>\n",
       "<table border=\"1\" class=\"dataframe\">\n",
       "  <thead>\n",
       "    <tr style=\"text-align: right;\">\n",
       "      <th></th>\n",
       "      <th>Date</th>\n",
       "      <th>Average Price</th>\n",
       "      <th>Total Volume</th>\n",
       "      <th>Hass Small</th>\n",
       "      <th>Hass Large</th>\n",
       "      <th>Hass XLarge</th>\n",
       "      <th>Total Bags</th>\n",
       "      <th>Small Bags</th>\n",
       "      <th>Large Bags</th>\n",
       "      <th>XLarge Bags</th>\n",
       "      <th>Type</th>\n",
       "      <th>Region</th>\n",
       "      <th>Total Sales</th>\n",
       "    </tr>\n",
       "    <tr>\n",
       "      <th>Year</th>\n",
       "      <th></th>\n",
       "      <th></th>\n",
       "      <th></th>\n",
       "      <th></th>\n",
       "      <th></th>\n",
       "      <th></th>\n",
       "      <th></th>\n",
       "      <th></th>\n",
       "      <th></th>\n",
       "      <th></th>\n",
       "      <th></th>\n",
       "      <th></th>\n",
       "      <th></th>\n",
       "    </tr>\n",
       "  </thead>\n",
       "  <tbody>\n",
       "    <tr>\n",
       "      <th>2015</th>\n",
       "      <td>5511</td>\n",
       "      <td>5511</td>\n",
       "      <td>5511</td>\n",
       "      <td>5511</td>\n",
       "      <td>5511</td>\n",
       "      <td>5511</td>\n",
       "      <td>5511</td>\n",
       "      <td>5511</td>\n",
       "      <td>5511</td>\n",
       "      <td>5511</td>\n",
       "      <td>5511</td>\n",
       "      <td>5511</td>\n",
       "      <td>5511</td>\n",
       "    </tr>\n",
       "    <tr>\n",
       "      <th>2016</th>\n",
       "      <td>5512</td>\n",
       "      <td>5512</td>\n",
       "      <td>5512</td>\n",
       "      <td>5512</td>\n",
       "      <td>5512</td>\n",
       "      <td>5512</td>\n",
       "      <td>5512</td>\n",
       "      <td>5512</td>\n",
       "      <td>5512</td>\n",
       "      <td>5512</td>\n",
       "      <td>5512</td>\n",
       "      <td>5512</td>\n",
       "      <td>5512</td>\n",
       "    </tr>\n",
       "    <tr>\n",
       "      <th>2017</th>\n",
       "      <td>5616</td>\n",
       "      <td>5616</td>\n",
       "      <td>5616</td>\n",
       "      <td>5616</td>\n",
       "      <td>5616</td>\n",
       "      <td>5616</td>\n",
       "      <td>5616</td>\n",
       "      <td>5616</td>\n",
       "      <td>5616</td>\n",
       "      <td>5616</td>\n",
       "      <td>5616</td>\n",
       "      <td>5616</td>\n",
       "      <td>5616</td>\n",
       "    </tr>\n",
       "    <tr>\n",
       "      <th>2018</th>\n",
       "      <td>1272</td>\n",
       "      <td>1272</td>\n",
       "      <td>1272</td>\n",
       "      <td>1272</td>\n",
       "      <td>1272</td>\n",
       "      <td>1272</td>\n",
       "      <td>1272</td>\n",
       "      <td>1272</td>\n",
       "      <td>1272</td>\n",
       "      <td>1272</td>\n",
       "      <td>1272</td>\n",
       "      <td>1272</td>\n",
       "      <td>1272</td>\n",
       "    </tr>\n",
       "  </tbody>\n",
       "</table>\n",
       "</div>"
      ],
      "text/plain": [
       "      Date  Average Price  Total Volume  Hass Small  Hass Large  Hass XLarge  \\\n",
       "Year                                                                           \n",
       "2015  5511           5511          5511        5511        5511         5511   \n",
       "2016  5512           5512          5512        5512        5512         5512   \n",
       "2017  5616           5616          5616        5616        5616         5616   \n",
       "2018  1272           1272          1272        1272        1272         1272   \n",
       "\n",
       "      Total Bags  Small Bags  Large Bags  XLarge Bags  Type  Region  \\\n",
       "Year                                                                  \n",
       "2015        5511        5511        5511         5511  5511    5511   \n",
       "2016        5512        5512        5512         5512  5512    5512   \n",
       "2017        5616        5616        5616         5616  5616    5616   \n",
       "2018        1272        1272        1272         1272  1272    1272   \n",
       "\n",
       "      Total Sales  \n",
       "Year               \n",
       "2015         5511  \n",
       "2016         5512  \n",
       "2017         5616  \n",
       "2018         1272  "
      ]
     },
     "execution_count": 20,
     "metadata": {},
     "output_type": "execute_result"
    }
   ],
   "source": [
    "#Group by year\n",
    "Size_year = avocado_data.groupby([\"Year\"])\n",
    "Size_year.count()"
   ]
  },
  {
   "cell_type": "code",
   "execution_count": 21,
   "metadata": {},
   "outputs": [
    {
     "data": {
      "text/html": [
       "<div>\n",
       "<style scoped>\n",
       "    .dataframe tbody tr th:only-of-type {\n",
       "        vertical-align: middle;\n",
       "    }\n",
       "\n",
       "    .dataframe tbody tr th {\n",
       "        vertical-align: top;\n",
       "    }\n",
       "\n",
       "    .dataframe thead th {\n",
       "        text-align: right;\n",
       "    }\n",
       "</style>\n",
       "<table border=\"1\" class=\"dataframe\">\n",
       "  <thead>\n",
       "    <tr style=\"text-align: right;\">\n",
       "      <th></th>\n",
       "      <th>Hass Small</th>\n",
       "      <th>Hass Large</th>\n",
       "      <th>Hass XLarge</th>\n",
       "    </tr>\n",
       "    <tr>\n",
       "      <th>Year</th>\n",
       "      <th></th>\n",
       "      <th></th>\n",
       "      <th></th>\n",
       "    </tr>\n",
       "  </thead>\n",
       "  <tbody>\n",
       "    <tr>\n",
       "      <th>2015</th>\n",
       "      <td>1057.542135</td>\n",
       "      <td>1099.865552</td>\n",
       "      <td>89.162984</td>\n",
       "    </tr>\n",
       "    <tr>\n",
       "      <th>2016</th>\n",
       "      <td>936.176209</td>\n",
       "      <td>1047.090679</td>\n",
       "      <td>99.452825</td>\n",
       "    </tr>\n",
       "    <tr>\n",
       "      <th>2017</th>\n",
       "      <td>1015.660963</td>\n",
       "      <td>967.700264</td>\n",
       "      <td>57.611449</td>\n",
       "    </tr>\n",
       "    <tr>\n",
       "      <th>2018</th>\n",
       "      <td>282.795201</td>\n",
       "      <td>256.607669</td>\n",
       "      <td>14.399901</td>\n",
       "    </tr>\n",
       "  </tbody>\n",
       "</table>\n",
       "</div>"
      ],
      "text/plain": [
       "       Hass Small   Hass Large  Hass XLarge\n",
       "Year                                       \n",
       "2015  1057.542135  1099.865552    89.162984\n",
       "2016   936.176209  1047.090679    99.452825\n",
       "2017  1015.660963   967.700264    57.611449\n",
       "2018   282.795201   256.607669    14.399901"
      ]
     },
     "execution_count": 21,
     "metadata": {},
     "output_type": "execute_result"
    }
   ],
   "source": [
    "#Calculations\n",
    "small_sales = Size_year[\"Hass Small\"].sum()/1000000\n",
    "large_sales = Size_year[\"Hass Large\"].sum()/1000000\n",
    "XLarge_sales = Size_year[\"Hass XLarge\"].sum()/1000000\n",
    "#Create Dataframe\n",
    "PLU_df = pd.DataFrame({\n",
    "    \"Hass Small\": small_sales,\n",
    "    \"Hass Large\": large_sales,\n",
    "    \"Hass XLarge\": XLarge_sales})\n",
    "PLU_df.head()"
   ]
  },
  {
   "cell_type": "code",
   "execution_count": 22,
   "metadata": {},
   "outputs": [
    {
     "data": {
      "image/png": "[encoded data removed]",
      "text/plain": [
       "<Figure size 432x288 with 1 Axes>"
      ]
     },
     "metadata": {
      "needs_background": "light"
     },
     "output_type": "display_data"
    }
   ],
   "source": [
    "# Generate a bar plot showing YoY trends\n",
    "PLU_df.plot(kind =\"bar\", title = \"Individual Avocado Sales by Year\",color=(\"blue\",\"red\",\"green\"))\n",
    "# Label x-axis\n",
    "plt.xlabel(\"Year\")\n",
    "plt.ylabel(\"Unit Sales (in millions)\")\n",
    "# Show pandas bar plot\n",
    "plt.savefig('PLU_Bar_YoY_sales',bbox_inches='tight')\n",
    "plt.show()"
   ]
  },
  {
   "cell_type": "code",
   "execution_count": 23,
   "metadata": {},
   "outputs": [
    {
     "data": {
      "text/html": [
       "<div>\n",
       "<style scoped>\n",
       "    .dataframe tbody tr th:only-of-type {\n",
       "        vertical-align: middle;\n",
       "    }\n",
       "\n",
       "    .dataframe tbody tr th {\n",
       "        vertical-align: top;\n",
       "    }\n",
       "\n",
       "    .dataframe thead th {\n",
       "        text-align: right;\n",
       "    }\n",
       "</style>\n",
       "<table border=\"1\" class=\"dataframe\">\n",
       "  <thead>\n",
       "    <tr style=\"text-align: right;\">\n",
       "      <th></th>\n",
       "      <th>Small Bags</th>\n",
       "      <th>Large Bags</th>\n",
       "      <th>XLarge Bags</th>\n",
       "    </tr>\n",
       "    <tr>\n",
       "      <th>Year</th>\n",
       "      <th></th>\n",
       "      <th></th>\n",
       "      <th></th>\n",
       "    </tr>\n",
       "  </thead>\n",
       "  <tbody>\n",
       "    <tr>\n",
       "      <th>2015</th>\n",
       "      <td>396.253547</td>\n",
       "      <td>82.003837</td>\n",
       "      <td>3.385385</td>\n",
       "    </tr>\n",
       "    <tr>\n",
       "      <th>2016</th>\n",
       "      <td>695.646041</td>\n",
       "      <td>210.851987</td>\n",
       "      <td>12.513009</td>\n",
       "    </tr>\n",
       "    <tr>\n",
       "      <th>2017</th>\n",
       "      <td>764.931453</td>\n",
       "      <td>248.784416</td>\n",
       "      <td>14.908333</td>\n",
       "    </tr>\n",
       "    <tr>\n",
       "      <th>2018</th>\n",
       "      <td>224.478543</td>\n",
       "      <td>76.391237</td>\n",
       "      <td>4.427220</td>\n",
       "    </tr>\n",
       "  </tbody>\n",
       "</table>\n",
       "</div>"
      ],
      "text/plain": [
       "      Small Bags  Large Bags  XLarge Bags\n",
       "Year                                     \n",
       "2015  396.253547   82.003837     3.385385\n",
       "2016  695.646041  210.851987    12.513009\n",
       "2017  764.931453  248.784416    14.908333\n",
       "2018  224.478543   76.391237     4.427220"
      ]
     },
     "execution_count": 23,
     "metadata": {},
     "output_type": "execute_result"
    }
   ],
   "source": [
    "#Calculations\n",
    "small_bags = Size_year[\"Small Bags\"].sum()/1000000\n",
    "large_bags = Size_year[\"Large Bags\"].sum()/1000000\n",
    "XLarge_bags = Size_year[\"XLarge Bags\"].sum()/1000000\n",
    "#Create Dataframe\n",
    "PLU_df = pd.DataFrame({\n",
    "    \"Small Bags\": small_bags,\n",
    "    \"Large Bags\": large_bags,\n",
    "    \"XLarge Bags\": XLarge_bags})\n",
    "PLU_df.head()"
   ]
  },
  {
   "cell_type": "code",
   "execution_count": 24,
   "metadata": {},
   "outputs": [
    {
     "data": {
      "image/png": "[encoded data removed]",
      "text/plain": [
       "<Figure size 432x288 with 1 Axes>"
      ]
     },
     "metadata": {
      "needs_background": "light"
     },
     "output_type": "display_data"
    }
   ],
   "source": [
    "# Generate a bar plot showing YoY trends\n",
    "PLU_df.plot(kind =\"bar\", title = \"Avocado Bag Sales by Year\",color=(\"blue\",\"red\",\"green\"))\n",
    "# Label x-axis\n",
    "plt.xlabel(\"Year\")\n",
    "plt.ylabel(\"Unit Sales (in millions)\")\n",
    "# Show pandas bar plot\n",
    "plt.savefig('Bag_Bar_YoY_sales',bbox_inches='tight')\n",
    "plt.show()"
   ]
  },
  {
   "cell_type": "code",
   "execution_count": null,
   "metadata": {},
   "outputs": [],
   "source": []
  }
 ],
 "metadata": {
  "kernelspec": {
   "display_name": "Python 3",
   "language": "python",
   "name": "python3"
  },
  "language_info": {
   "codemirror_mode": {
    "name": "ipython",
    "version": 3
   },
   "file_extension": ".py",
   "mimetype": "text/x-python",
   "name": "python",
   "nbconvert_exporter": "python",
   "pygments_lexer": "ipython3",
   "version": "3.6.10"
  }
 },
 "nbformat": 4,
 "nbformat_minor": 4
}
